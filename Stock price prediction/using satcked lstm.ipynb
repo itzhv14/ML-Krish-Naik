{
 "cells": [
  {
   "cell_type": "code",
   "execution_count": 7,
   "metadata": {},
   "outputs": [],
   "source": [
    "# # data collection\n",
    "# import pandas_datareader as pdr\n",
    "# df = pdr.get_data_tiingo('AAPL',api_key='key')\n",
    "# df.to_csv('AAPL.csv')"
   ]
  },
  {
   "cell_type": "code",
   "execution_count": 8,
   "metadata": {},
   "outputs": [
    {
     "data": {
      "text/html": [
       "<div>\n",
       "<style scoped>\n",
       "    .dataframe tbody tr th:only-of-type {\n",
       "        vertical-align: middle;\n",
       "    }\n",
       "\n",
       "    .dataframe tbody tr th {\n",
       "        vertical-align: top;\n",
       "    }\n",
       "\n",
       "    .dataframe thead th {\n",
       "        text-align: right;\n",
       "    }\n",
       "</style>\n",
       "<table border=\"1\" class=\"dataframe\">\n",
       "  <thead>\n",
       "    <tr style=\"text-align: right;\">\n",
       "      <th></th>\n",
       "      <th>symbol</th>\n",
       "      <th>date</th>\n",
       "      <th>close</th>\n",
       "      <th>high</th>\n",
       "      <th>low</th>\n",
       "      <th>open</th>\n",
       "      <th>volume</th>\n",
       "      <th>adjClose</th>\n",
       "      <th>adjHigh</th>\n",
       "      <th>adjLow</th>\n",
       "      <th>adjOpen</th>\n",
       "      <th>adjVolume</th>\n",
       "      <th>divCash</th>\n",
       "      <th>splitFactor</th>\n",
       "    </tr>\n",
       "  </thead>\n",
       "  <tbody>\n",
       "    <tr>\n",
       "      <td>0</td>\n",
       "      <td>AAPL</td>\n",
       "      <td>2015-07-20 00:00:00+00:00</td>\n",
       "      <td>132.07</td>\n",
       "      <td>132.97</td>\n",
       "      <td>130.70</td>\n",
       "      <td>130.97</td>\n",
       "      <td>58900203</td>\n",
       "      <td>121.705596</td>\n",
       "      <td>122.534967</td>\n",
       "      <td>120.443109</td>\n",
       "      <td>120.691920</td>\n",
       "      <td>58900203</td>\n",
       "      <td>0.0</td>\n",
       "      <td>1.0</td>\n",
       "    </tr>\n",
       "    <tr>\n",
       "      <td>1</td>\n",
       "      <td>AAPL</td>\n",
       "      <td>2015-07-21 00:00:00+00:00</td>\n",
       "      <td>130.75</td>\n",
       "      <td>132.92</td>\n",
       "      <td>130.32</td>\n",
       "      <td>132.85</td>\n",
       "      <td>76756427</td>\n",
       "      <td>120.489185</td>\n",
       "      <td>122.488891</td>\n",
       "      <td>120.092930</td>\n",
       "      <td>122.424384</td>\n",
       "      <td>76756427</td>\n",
       "      <td>0.0</td>\n",
       "      <td>1.0</td>\n",
       "    </tr>\n",
       "    <tr>\n",
       "      <td>2</td>\n",
       "      <td>AAPL</td>\n",
       "      <td>2015-07-22 00:00:00+00:00</td>\n",
       "      <td>125.22</td>\n",
       "      <td>125.50</td>\n",
       "      <td>121.99</td>\n",
       "      <td>121.99</td>\n",
       "      <td>115450607</td>\n",
       "      <td>115.393160</td>\n",
       "      <td>115.651187</td>\n",
       "      <td>112.416640</td>\n",
       "      <td>112.416640</td>\n",
       "      <td>115450607</td>\n",
       "      <td>0.0</td>\n",
       "      <td>1.0</td>\n",
       "    </tr>\n",
       "    <tr>\n",
       "      <td>3</td>\n",
       "      <td>AAPL</td>\n",
       "      <td>2015-07-23 00:00:00+00:00</td>\n",
       "      <td>125.16</td>\n",
       "      <td>127.09</td>\n",
       "      <td>125.06</td>\n",
       "      <td>126.20</td>\n",
       "      <td>50999452</td>\n",
       "      <td>115.337869</td>\n",
       "      <td>117.116409</td>\n",
       "      <td>115.245717</td>\n",
       "      <td>116.296253</td>\n",
       "      <td>50999452</td>\n",
       "      <td>0.0</td>\n",
       "      <td>1.0</td>\n",
       "    </tr>\n",
       "    <tr>\n",
       "      <td>4</td>\n",
       "      <td>AAPL</td>\n",
       "      <td>2015-07-24 00:00:00+00:00</td>\n",
       "      <td>124.50</td>\n",
       "      <td>125.74</td>\n",
       "      <td>123.90</td>\n",
       "      <td>125.32</td>\n",
       "      <td>42162332</td>\n",
       "      <td>114.729663</td>\n",
       "      <td>115.872352</td>\n",
       "      <td>114.176749</td>\n",
       "      <td>115.485313</td>\n",
       "      <td>42162332</td>\n",
       "      <td>0.0</td>\n",
       "      <td>1.0</td>\n",
       "    </tr>\n",
       "  </tbody>\n",
       "</table>\n",
       "</div>"
      ],
      "text/plain": [
       "  symbol                       date   close    high     low    open  \\\n",
       "0   AAPL  2015-07-20 00:00:00+00:00  132.07  132.97  130.70  130.97   \n",
       "1   AAPL  2015-07-21 00:00:00+00:00  130.75  132.92  130.32  132.85   \n",
       "2   AAPL  2015-07-22 00:00:00+00:00  125.22  125.50  121.99  121.99   \n",
       "3   AAPL  2015-07-23 00:00:00+00:00  125.16  127.09  125.06  126.20   \n",
       "4   AAPL  2015-07-24 00:00:00+00:00  124.50  125.74  123.90  125.32   \n",
       "\n",
       "      volume    adjClose     adjHigh      adjLow     adjOpen  adjVolume  \\\n",
       "0   58900203  121.705596  122.534967  120.443109  120.691920   58900203   \n",
       "1   76756427  120.489185  122.488891  120.092930  122.424384   76756427   \n",
       "2  115450607  115.393160  115.651187  112.416640  112.416640  115450607   \n",
       "3   50999452  115.337869  117.116409  115.245717  116.296253   50999452   \n",
       "4   42162332  114.729663  115.872352  114.176749  115.485313   42162332   \n",
       "\n",
       "   divCash  splitFactor  \n",
       "0      0.0          1.0  \n",
       "1      0.0          1.0  \n",
       "2      0.0          1.0  \n",
       "3      0.0          1.0  \n",
       "4      0.0          1.0  "
      ]
     },
     "execution_count": 8,
     "metadata": {},
     "output_type": "execute_result"
    }
   ],
   "source": [
    "import pandas as pd\n",
    "df=pd.read_csv('AAPL.csv')\n",
    "df.head()"
   ]
  },
  {
   "cell_type": "code",
   "execution_count": 10,
   "metadata": {},
   "outputs": [
    {
     "data": {
      "text/plain": [
       "(1257,)"
      ]
     },
     "execution_count": 10,
     "metadata": {},
     "output_type": "execute_result"
    }
   ],
   "source": [
    "df1=df.reset_index()['close']\n",
    "df1.shape"
   ]
  },
  {
   "cell_type": "code",
   "execution_count": 11,
   "metadata": {},
   "outputs": [
    {
     "data": {
      "text/plain": [
       "0       132.07\n",
       "1       130.75\n",
       "2       125.22\n",
       "3       125.16\n",
       "4       124.50\n",
       "         ...  \n",
       "1252    383.01\n",
       "1253    383.68\n",
       "1254    381.91\n",
       "1255    388.23\n",
       "1256    390.90\n",
       "Name: close, Length: 1257, dtype: float64"
      ]
     },
     "execution_count": 11,
     "metadata": {},
     "output_type": "execute_result"
    }
   ],
   "source": [
    "df1"
   ]
  },
  {
   "cell_type": "code",
   "execution_count": 14,
   "metadata": {},
   "outputs": [
    {
     "data": {
      "text/plain": [
       "[<matplotlib.lines.Line2D at 0x1eb43e24208>]"
      ]
     },
     "execution_count": 14,
     "metadata": {},
     "output_type": "execute_result"
    },
    {
     "data": {
      "image/png": "[encoded data removed]",
      "text/plain": [
       "<Figure size 432x288 with 1 Axes>"
      ]
     },
     "metadata": {
      "needs_background": "light"
     },
     "output_type": "display_data"
    }
   ],
   "source": [
    "%matplotlib inline\n",
    "import matplotlib.pyplot as plt\n",
    "plt.plot(df1)"
   ]
  },
  {
   "cell_type": "code",
   "execution_count": 15,
   "metadata": {},
   "outputs": [],
   "source": [
    "### LSTM are sensitive to the scale of the data, so we apply MinMaxScaler\n",
    "\n",
    "import numpy as np\n",
    "from sklearn.preprocessing import MinMaxScaler\n",
    "scaler = MinMaxScaler(feature_range=(0,1))\n",
    "df1=scaler.fit_transform(np.array(df1).reshape(-1,1))"
   ]
  },
  {
   "cell_type": "code",
   "execution_count": 16,
   "metadata": {},
   "outputs": [
    {
     "data": {
      "text/plain": [
       "(1257, 1)"
      ]
     },
     "execution_count": 16,
     "metadata": {},
     "output_type": "execute_result"
    }
   ],
   "source": [
    "df1.shape"
   ]
  },
  {
   "cell_type": "code",
   "execution_count": 17,
   "metadata": {},
   "outputs": [
    {
     "data": {
      "text/plain": [
       "array([[0.13884083],\n",
       "       [0.13444903],\n",
       "       [0.11605004],\n",
       "       ...,\n",
       "       [0.97008917],\n",
       "       [0.99111658],\n",
       "       [1.        ]])"
      ]
     },
     "execution_count": 17,
     "metadata": {},
     "output_type": "execute_result"
    }
   ],
   "source": [
    "df1"
   ]
  },
  {
   "cell_type": "code",
   "execution_count": 18,
   "metadata": {},
   "outputs": [],
   "source": [
    "##splitting dataset into train and test split\n",
    "training_size=int(len(df1)*0.65)\n",
    "test_size=len(df1)-training_size\n",
    "train_data,test_data=df1[0:training_size, :],df1[training_size:len(df1), :]\n",
    "# 1st 65% of data is in training set and remaining in test"
   ]
  },
  {
   "cell_type": "code",
   "execution_count": 19,
   "metadata": {},
   "outputs": [
    {
     "data": {
      "text/plain": [
       "(817, 440)"
      ]
     },
     "execution_count": 19,
     "metadata": {},
     "output_type": "execute_result"
    }
   ],
   "source": [
    "len(train_data),len(test_data)"
   ]
  },
  {
   "cell_type": "code",
   "execution_count": 34,
   "metadata": {},
   "outputs": [],
   "source": [
    "import numpy\n",
    "# convert an array of values into a dataset matrix\n",
    "def create_dataset(dataset, time_step=1):\n",
    "    dataX, dataY = [], []\n",
    "    for i in range(len(dataset)-time_step-1):\n",
    "        a = dataset[i:(i+time_step)]   ###i=0, 0,1,2,3-----99   100 \n",
    "        dataX.append(a)\n",
    "        dataY.append(dataset[i + time_step])\n",
    "    return numpy.array(dataX), numpy.array(dataY)"
   ]
  },
  {
   "cell_type": "code",
   "execution_count": 35,
   "metadata": {},
   "outputs": [],
   "source": [
    "# reshape into X=t,t+1,t+2,t+3 and Y=t+4\n",
    "time_step = 100\n",
    "X_train, y_train = create_dataset(train_data, time_step)\n",
    "X_test, ytest = create_dataset(test_data, time_step)"
   ]
  },
  {
   "cell_type": "code",
   "execution_count": 36,
   "metadata": {},
   "outputs": [
    {
     "name": "stdout",
     "output_type": "stream",
     "text": [
      "(716, 100, 1)\n",
      "(716, 1)\n"
     ]
    },
    {
     "data": {
      "text/plain": [
       "(None, None)"
      ]
     },
     "execution_count": 36,
     "metadata": {},
     "output_type": "execute_result"
    }
   ],
   "source": [
    "print(X_train.shape), print(y_train.shape)"
   ]
  },
  {
   "cell_type": "code",
   "execution_count": 37,
   "metadata": {},
   "outputs": [
    {
     "name": "stdout",
     "output_type": "stream",
     "text": [
      "(339, 100, 1)\n",
      "(339, 1)\n"
     ]
    },
    {
     "data": {
      "text/plain": [
       "(None, None)"
      ]
     },
     "execution_count": 37,
     "metadata": {},
     "output_type": "execute_result"
    }
   ],
   "source": [
    "print(X_test.shape), print(ytest.shape)"
   ]
  },
  {
   "cell_type": "code",
   "execution_count": 38,
   "metadata": {},
   "outputs": [],
   "source": [
    "# reshape input to be [samples, time steps, features] which is required for LSTM\n",
    "X_train = X_train.reshape(X_train.shape[0],X_train.shape[1] , 1)\n",
    "X_test = X_test.reshape(X_test.shape[0],X_test.shape[1] , 1)"
   ]
  },
  {
   "cell_type": "code",
   "execution_count": 29,
   "metadata": {},
   "outputs": [
    {
     "data": {
      "text/plain": [
       "(716, 100, 1)"
      ]
     },
     "execution_count": 29,
     "metadata": {},
     "output_type": "execute_result"
    }
   ],
   "source": [
    "X_train.shape"
   ]
  },
  {
   "cell_type": "code",
   "execution_count": 30,
   "metadata": {},
   "outputs": [
    {
     "data": {
      "text/plain": [
       "(339, 100, 1)"
      ]
     },
     "execution_count": 30,
     "metadata": {},
     "output_type": "execute_result"
    }
   ],
   "source": [
    "X_test.shape"
   ]
  },
  {
   "cell_type": "code",
   "execution_count": 43,
   "metadata": {},
   "outputs": [],
   "source": [
    "### Create the Stacked LSTM model\n",
    "from tensorflow.keras.models import Sequential\n",
    "from tensorflow.keras.layers import Dense\n",
    "from tensorflow.keras.layers import LSTM"
   ]
  },
  {
   "cell_type": "code",
   "execution_count": 47,
   "metadata": {},
   "outputs": [
    {
     "data": {
      "text/plain": [
       "100"
      ]
     },
     "execution_count": 47,
     "metadata": {},
     "output_type": "execute_result"
    }
   ],
   "source": [
    "len(X_train[0])"
   ]
  },
  {
   "cell_type": "code",
   "execution_count": 48,
   "metadata": {},
   "outputs": [],
   "source": [
    "model=Sequential()\n",
    "model.add(LSTM(50,return_sequences=True,input_shape=(100,1))) # 100 coz 100 data is present in one array\n",
    "model.add(LSTM(50,return_sequences=True))\n",
    "model.add(LSTM(50))\n",
    "model.add(Dense(1))\n",
    "model.compile(loss='mean_squared_error',optimizer='adam')"
   ]
  },
  {
   "cell_type": "code",
   "execution_count": 49,
   "metadata": {},
   "outputs": [
    {
     "name": "stdout",
     "output_type": "stream",
     "text": [
      "Model: \"sequential_1\"\n",
      "_________________________________________________________________\n",
      "Layer (type)                 Output Shape              Param #   \n",
      "=================================================================\n",
      "lstm_3 (LSTM)                (None, 100, 50)           10400     \n",
      "_________________________________________________________________\n",
      "lstm_4 (LSTM)                (None, 100, 50)           20200     \n",
      "_________________________________________________________________\n",
      "lstm_5 (LSTM)                (None, 50)                20200     \n",
      "_________________________________________________________________\n",
      "dense_1 (Dense)              (None, 1)                 51        \n",
      "=================================================================\n",
      "Total params: 50,851\n",
      "Trainable params: 50,851\n",
      "Non-trainable params: 0\n",
      "_________________________________________________________________\n"
     ]
    }
   ],
   "source": [
    "model.summary()"
   ]
  },
  {
   "cell_type": "code",
   "execution_count": 50,
   "metadata": {},
   "outputs": [
    {
     "name": "stdout",
     "output_type": "stream",
     "text": [
      "Epoch 1/100\n",
      "12/12 [==============================] - 2s 193ms/step - loss: 0.0106 - val_loss: 0.0500\n",
      "Epoch 2/100\n",
      "12/12 [==============================] - 3s 250ms/step - loss: 0.0029 - val_loss: 0.0030\n",
      "Epoch 3/100\n",
      "12/12 [==============================] - 1s 119ms/step - loss: 7.2290e-04 - val_loss: 0.0067\n",
      "Epoch 4/100\n",
      "12/12 [==============================] - 2s 185ms/step - loss: 5.7734e-04 - val_loss: 0.0030\n",
      "Epoch 5/100\n",
      "12/12 [==============================] - 2s 176ms/step - loss: 4.4387e-04 - val_loss: 0.0033\n",
      "Epoch 6/100\n",
      "12/12 [==============================] - 1s 110ms/step - loss: 4.1862e-04 - val_loss: 0.0033\n",
      "Epoch 7/100\n",
      "12/12 [==============================] - 3s 249ms/step - loss: 4.4286e-04 - val_loss: 0.0031\n",
      "Epoch 8/100\n",
      "12/12 [==============================] - 3s 250ms/step - loss: 4.4955e-04 - val_loss: 0.0034\n",
      "Epoch 9/100\n",
      "12/12 [==============================] - 3s 249ms/step - loss: 4.3266e-04 - val_loss: 0.0033\n",
      "Epoch 10/100\n",
      "12/12 [==============================] - 2s 156ms/step - loss: 4.4735e-04 - val_loss: 0.0037\n",
      "Epoch 11/100\n",
      "12/12 [==============================] - 3s 244ms/step - loss: 4.2931e-04 - val_loss: 0.0030\n",
      "Epoch 12/100\n",
      "12/12 [==============================] - 3s 253ms/step - loss: 3.7875e-04 - val_loss: 0.0027\n",
      "Epoch 13/100\n",
      "12/12 [==============================] - 3s 246ms/step - loss: 3.6905e-04 - val_loss: 0.0029\n",
      "Epoch 14/100\n",
      "12/12 [==============================] - 2s 149ms/step - loss: 3.8943e-04 - val_loss: 0.0027\n",
      "Epoch 15/100\n",
      "12/12 [==============================] - 3s 244ms/step - loss: 3.7917e-04 - val_loss: 0.0024\n",
      "Epoch 16/100\n",
      "12/12 [==============================] - 3s 248ms/step - loss: 3.8592e-04 - val_loss: 0.0024\n",
      "Epoch 17/100\n",
      "12/12 [==============================] - 3s 245ms/step - loss: 3.8901e-04 - val_loss: 0.0025\n",
      "Epoch 18/100\n",
      "12/12 [==============================] - 3s 249ms/step - loss: 3.5725e-04 - val_loss: 0.0023\n",
      "Epoch 19/100\n",
      "12/12 [==============================] - 2s 131ms/step - loss: 3.3437e-04 - val_loss: 0.0022\n",
      "Epoch 20/100\n",
      "12/12 [==============================] - 3s 244ms/step - loss: 3.6299e-04 - val_loss: 0.0021\n",
      "Epoch 21/100\n",
      "12/12 [==============================] - 3s 248ms/step - loss: 3.3707e-04 - val_loss: 0.0021\n",
      "Epoch 22/100\n",
      "12/12 [==============================] - 3s 242ms/step - loss: 3.3436e-04 - val_loss: 0.0020\n",
      "Epoch 23/100\n",
      "12/12 [==============================] - 2s 148ms/step - loss: 3.2336e-04 - val_loss: 0.0024\n",
      "Epoch 24/100\n",
      "12/12 [==============================] - 3s 251ms/step - loss: 3.7369e-04 - val_loss: 0.0019\n",
      "Epoch 25/100\n",
      "12/12 [==============================] - 3s 247ms/step - loss: 3.2069e-04 - val_loss: 0.0021\n",
      "Epoch 26/100\n",
      "12/12 [==============================] - 3s 242ms/step - loss: 3.1124e-04 - val_loss: 0.0019\n",
      "Epoch 27/100\n",
      "12/12 [==============================] - 3s 247ms/step - loss: 3.1432e-04 - val_loss: 0.0017\n",
      "Epoch 28/100\n",
      "12/12 [==============================] - 2s 132ms/step - loss: 3.0243e-04 - val_loss: 0.0018\n",
      "Epoch 29/100\n",
      "12/12 [==============================] - 3s 254ms/step - loss: 2.9450e-04 - val_loss: 0.0018\n",
      "Epoch 30/100\n",
      "12/12 [==============================] - 3s 241ms/step - loss: 2.9512e-04 - val_loss: 0.0017\n",
      "Epoch 31/100\n",
      "12/12 [==============================] - 3s 252ms/step - loss: 2.9049e-04 - val_loss: 0.0016\n",
      "Epoch 32/100\n",
      "12/12 [==============================] - 3s 245ms/step - loss: 2.9276e-04 - val_loss: 0.0018\n",
      "Epoch 33/100\n",
      "12/12 [==============================] - 3s 246ms/step - loss: 3.5118e-04 - val_loss: 0.0015\n",
      "Epoch 34/100\n",
      "12/12 [==============================] - 2s 152ms/step - loss: 3.3262e-04 - val_loss: 0.0021\n",
      "Epoch 35/100\n",
      "12/12 [==============================] - 3s 251ms/step - loss: 2.8517e-04 - val_loss: 0.0015\n",
      "Epoch 36/100\n",
      "12/12 [==============================] - 3s 265ms/step - loss: 3.0273e-04 - val_loss: 0.0015\n",
      "Epoch 37/100\n",
      "12/12 [==============================] - 3s 253ms/step - loss: 2.6904e-04 - val_loss: 0.0020\n",
      "Epoch 38/100\n",
      "12/12 [==============================] - 3s 246ms/step - loss: 3.0042e-04 - val_loss: 0.0014\n",
      "Epoch 39/100\n",
      "12/12 [==============================] - 3s 246ms/step - loss: 2.6944e-04 - val_loss: 0.0013\n",
      "Epoch 40/100\n",
      "12/12 [==============================] - 3s 232ms/step - loss: 2.6456e-04 - val_loss: 0.0019\n",
      "Epoch 41/100\n",
      "12/12 [==============================] - 2s 156ms/step - loss: 2.5753e-04 - val_loss: 0.0015\n",
      "Epoch 42/100\n",
      "12/12 [==============================] - 3s 246ms/step - loss: 2.6360e-04 - val_loss: 0.0015\n",
      "Epoch 43/100\n",
      "12/12 [==============================] - 3s 243ms/step - loss: 2.6948e-04 - val_loss: 0.0012\n",
      "Epoch 44/100\n",
      "12/12 [==============================] - 3s 244ms/step - loss: 2.6552e-04 - val_loss: 0.0018\n",
      "Epoch 45/100\n",
      "12/12 [==============================] - 3s 247ms/step - loss: 2.5113e-04 - val_loss: 0.0012\n",
      "Epoch 46/100\n",
      "12/12 [==============================] - 3s 242ms/step - loss: 2.3939e-04 - val_loss: 0.0013\n",
      "Epoch 47/100\n",
      "12/12 [==============================] - 3s 249ms/step - loss: 2.3472e-04 - val_loss: 0.0013\n",
      "Epoch 48/100\n",
      "12/12 [==============================] - 3s 248ms/step - loss: 2.2398e-04 - val_loss: 0.0011\n",
      "Epoch 49/100\n",
      "12/12 [==============================] - 3s 252ms/step - loss: 2.2916e-04 - val_loss: 0.0015\n",
      "Epoch 50/100\n",
      "12/12 [==============================] - 3s 246ms/step - loss: 2.3700e-04 - val_loss: 0.0013\n",
      "Epoch 51/100\n",
      "12/12 [==============================] - 3s 248ms/step - loss: 2.2770e-04 - val_loss: 0.0012\n",
      "Epoch 52/100\n",
      "12/12 [==============================] - 2s 138ms/step - loss: 2.2655e-04 - val_loss: 0.0020\n",
      "Epoch 53/100\n",
      "12/12 [==============================] - 3s 248ms/step - loss: 2.4263e-04 - val_loss: 0.0013\n",
      "Epoch 54/100\n",
      "12/12 [==============================] - 3s 250ms/step - loss: 2.6457e-04 - val_loss: 0.0011\n",
      "Epoch 55/100\n",
      "12/12 [==============================] - 3s 249ms/step - loss: 2.7581e-04 - val_loss: 0.0023\n",
      "Epoch 56/100\n",
      "12/12 [==============================] - 3s 253ms/step - loss: 2.7151e-04 - val_loss: 0.0011\n",
      "Epoch 57/100\n",
      "12/12 [==============================] - 3s 246ms/step - loss: 2.1553e-04 - val_loss: 0.0021\n",
      "Epoch 58/100\n",
      "12/12 [==============================] - 3s 249ms/step - loss: 2.8934e-04 - val_loss: 0.0011\n",
      "Epoch 59/100\n",
      "12/12 [==============================] - 3s 243ms/step - loss: 2.3073e-04 - val_loss: 0.0017\n",
      "Epoch 60/100\n",
      "12/12 [==============================] - 3s 244ms/step - loss: 1.9839e-04 - val_loss: 0.0010\n",
      "Epoch 61/100\n",
      "12/12 [==============================] - 3s 249ms/step - loss: 2.0643e-04 - val_loss: 0.0020\n",
      "Epoch 62/100\n",
      "12/12 [==============================] - 3s 244ms/step - loss: 2.3307e-04 - val_loss: 0.0011\n",
      "Epoch 63/100\n",
      "12/12 [==============================] - 3s 245ms/step - loss: 1.8849e-04 - val_loss: 0.0012\n",
      "Epoch 64/100\n",
      "12/12 [==============================] - 2s 198ms/step - loss: 1.9160e-04 - val_loss: 0.0023\n",
      "Epoch 65/100\n",
      "12/12 [==============================] - 2s 197ms/step - loss: 2.6298e-04 - val_loss: 9.9330e-04\n",
      "Epoch 66/100\n",
      "12/12 [==============================] - 3s 243ms/step - loss: 2.0420e-04 - val_loss: 0.0014\n",
      "Epoch 67/100\n",
      "12/12 [==============================] - 3s 248ms/step - loss: 2.2319e-04 - val_loss: 0.0010\n",
      "Epoch 68/100\n",
      "12/12 [==============================] - 3s 243ms/step - loss: 2.8010e-04 - val_loss: 0.0013\n",
      "Epoch 69/100\n",
      "12/12 [==============================] - 3s 242ms/step - loss: 1.9587e-04 - val_loss: 9.7194e-04\n",
      "Epoch 70/100\n",
      "12/12 [==============================] - 3s 247ms/step - loss: 2.0252e-04 - val_loss: 0.0011\n",
      "Epoch 71/100\n",
      "12/12 [==============================] - 3s 241ms/step - loss: 1.9741e-04 - val_loss: 9.7267e-04\n",
      "Epoch 72/100\n",
      "12/12 [==============================] - 3s 246ms/step - loss: 1.7701e-04 - val_loss: 0.0012\n",
      "Epoch 73/100\n",
      "12/12 [==============================] - 3s 234ms/step - loss: 1.7446e-04 - val_loss: 9.1444e-04\n",
      "Epoch 74/100\n",
      "12/12 [==============================] - 2s 166ms/step - loss: 1.7111e-04 - val_loss: 0.0011\n",
      "Epoch 75/100\n",
      "12/12 [==============================] - 3s 245ms/step - loss: 1.5308e-04 - val_loss: 0.0010\n",
      "Epoch 76/100\n",
      "12/12 [==============================] - 3s 250ms/step - loss: 1.5557e-04 - val_loss: 0.0011\n",
      "Epoch 77/100\n",
      "12/12 [==============================] - 3s 245ms/step - loss: 1.6327e-04 - val_loss: 0.0010\n",
      "Epoch 78/100\n"
     ]
    },
    {
     "name": "stdout",
     "output_type": "stream",
     "text": [
      "12/12 [==============================] - 3s 247ms/step - loss: 1.5551e-04 - val_loss: 8.9578e-04\n",
      "Epoch 79/100\n",
      "12/12 [==============================] - 3s 250ms/step - loss: 1.6965e-04 - val_loss: 0.0012\n",
      "Epoch 80/100\n",
      "12/12 [==============================] - 3s 246ms/step - loss: 1.6872e-04 - val_loss: 9.0619e-04\n",
      "Epoch 81/100\n",
      "12/12 [==============================] - 3s 246ms/step - loss: 1.6515e-04 - val_loss: 0.0016\n",
      "Epoch 82/100\n",
      "12/12 [==============================] - 3s 247ms/step - loss: 1.6886e-04 - val_loss: 8.2693e-04\n",
      "Epoch 83/100\n",
      "12/12 [==============================] - 3s 252ms/step - loss: 1.3700e-04 - val_loss: 8.1333e-04\n",
      "Epoch 84/100\n",
      "12/12 [==============================] - 3s 255ms/step - loss: 1.3583e-04 - val_loss: 0.0011\n",
      "Epoch 85/100\n",
      "12/12 [==============================] - 3s 249ms/step - loss: 1.2835e-04 - val_loss: 8.3759e-04\n",
      "Epoch 86/100\n",
      "12/12 [==============================] - 3s 251ms/step - loss: 1.2606e-04 - val_loss: 7.7003e-04\n",
      "Epoch 87/100\n",
      "12/12 [==============================] - 3s 246ms/step - loss: 1.2572e-04 - val_loss: 8.3304e-04\n",
      "Epoch 88/100\n",
      "12/12 [==============================] - 3s 249ms/step - loss: 1.2246e-04 - val_loss: 9.2970e-04\n",
      "Epoch 89/100\n",
      "12/12 [==============================] - 3s 262ms/step - loss: 1.2945e-04 - val_loss: 7.9577e-04\n",
      "Epoch 90/100\n",
      "12/12 [==============================] - 3s 247ms/step - loss: 1.1759e-04 - val_loss: 7.4516e-04\n",
      "Epoch 91/100\n",
      "12/12 [==============================] - 3s 247ms/step - loss: 1.2162e-04 - val_loss: 0.0011\n",
      "Epoch 92/100\n",
      "12/12 [==============================] - 2s 131ms/step - loss: 1.3368e-04 - val_loss: 7.8444e-04\n",
      "Epoch 93/100\n",
      "12/12 [==============================] - 3s 254ms/step - loss: 1.4467e-04 - val_loss: 9.5339e-04\n",
      "Epoch 94/100\n",
      "12/12 [==============================] - 3s 254ms/step - loss: 1.1648e-04 - val_loss: 8.7360e-04\n",
      "Epoch 95/100\n",
      "12/12 [==============================] - 3s 249ms/step - loss: 1.0859e-04 - val_loss: 7.1827e-04\n",
      "Epoch 96/100\n",
      "12/12 [==============================] - 3s 245ms/step - loss: 1.3022e-04 - val_loss: 0.0011\n",
      "Epoch 97/100\n",
      "12/12 [==============================] - 3s 245ms/step - loss: 1.0732e-04 - val_loss: 7.9724e-04\n",
      "Epoch 98/100\n",
      "12/12 [==============================] - 3s 250ms/step - loss: 1.5267e-04 - val_loss: 0.0021\n",
      "Epoch 99/100\n",
      "12/12 [==============================] - 3s 263ms/step - loss: 1.6832e-04 - val_loss: 7.5281e-04\n",
      "Epoch 100/100\n",
      "12/12 [==============================] - 3s 253ms/step - loss: 1.3451e-04 - val_loss: 9.5595e-04\n"
     ]
    },
    {
     "data": {
      "text/plain": [
       "<tensorflow.python.keras.callbacks.History at 0x1eb629cea08>"
      ]
     },
     "execution_count": 50,
     "metadata": {},
     "output_type": "execute_result"
    }
   ],
   "source": [
    "model.fit(X_train,y_train,validation_data=(X_test,ytest),epochs=100,batch_size=64,verbose=1)"
   ]
  },
  {
   "cell_type": "code",
   "execution_count": 51,
   "metadata": {},
   "outputs": [
    {
     "data": {
      "text/plain": [
       "'2.2.0'"
      ]
     },
     "execution_count": 51,
     "metadata": {},
     "output_type": "execute_result"
    }
   ],
   "source": [
    "import tensorflow as tf\n",
    "tf.__version__"
   ]
  },
  {
   "cell_type": "code",
   "execution_count": 52,
   "metadata": {},
   "outputs": [],
   "source": [
    "### Lets Do the prediction and check performance metrics\n",
    "train_predict=model.predict(X_train)\n",
    "test_predict=model.predict(X_test)"
   ]
  },
  {
   "cell_type": "code",
   "execution_count": 53,
   "metadata": {},
   "outputs": [],
   "source": [
    "##Transformback to original form\n",
    "train_predict=scaler.inverse_transform(train_predict)\n",
    "test_predict=scaler.inverse_transform(test_predict)"
   ]
  },
  {
   "cell_type": "code",
   "execution_count": 54,
   "metadata": {},
   "outputs": [
    {
     "data": {
      "text/plain": [
       "147.65203287702383"
      ]
     },
     "execution_count": 54,
     "metadata": {},
     "output_type": "execute_result"
    }
   ],
   "source": [
    "### Calculate RMSE performance metrics\n",
    "import math\n",
    "from sklearn.metrics import mean_squared_error\n",
    "math.sqrt(mean_squared_error(y_train,train_predict))"
   ]
  },
  {
   "cell_type": "code",
   "execution_count": 55,
   "metadata": {},
   "outputs": [
    {
     "data": {
      "text/plain": [
       "253.6952626373896"
      ]
     },
     "execution_count": 55,
     "metadata": {},
     "output_type": "execute_result"
    }
   ],
   "source": [
    "### Test Data RMSE\n",
    "math.sqrt(mean_squared_error(ytest,test_predict))"
   ]
  },
  {
   "cell_type": "code",
   "execution_count": 56,
   "metadata": {},
   "outputs": [
    {
     "data": {
      "image/png": "[encoded data removed]",
      "text/plain": [
       "<Figure size 432x288 with 1 Axes>"
      ]
     },
     "metadata": {
      "needs_background": "light"
     },
     "output_type": "display_data"
    }
   ],
   "source": [
    "### Plotting \n",
    "%matplomatplotlibinline\n",
    "import matplotlib.pyplot as plt\n",
    "\n",
    "# shift train predictions for plotting\n",
    "look_back=100\n",
    "trainPredictPlot = numpy.empty_like(df1)\n",
    "trainPredictPlot[:, :] = np.nan\n",
    "trainPredictPlot[look_back:len(train_predict)+look_back, :] = train_predict\n",
    "# shift test predictions for plotting\n",
    "testPredictPlot = numpy.empty_like(df1)\n",
    "testPredictPlot[:, :] = numpy.nan\n",
    "testPredictPlot[len(train_predict)+(look_back*2)+1:len(df1)-1, :] = test_predict\n",
    "# plot baseline and predictions\n",
    "plt.plot(scaler.inverse_transform(df1))\n",
    "plt.plot(trainPredictPlot)\n",
    "plt.plot(testPredictPlot)\n",
    "plt.show()"
   ]
  },
  {
   "cell_type": "code",
   "execution_count": 57,
   "metadata": {},
   "outputs": [
    {
     "data": {
      "text/plain": [
       "440"
      ]
     },
     "execution_count": 57,
     "metadata": {},
     "output_type": "execute_result"
    }
   ],
   "source": [
    "len(test_data)"
   ]
  },
  {
   "cell_type": "code",
   "execution_count": 58,
   "metadata": {},
   "outputs": [
    {
     "data": {
      "text/plain": [
       "(1, 100)"
      ]
     },
     "execution_count": 58,
     "metadata": {},
     "output_type": "execute_result"
    }
   ],
   "source": [
    "x_input=test_data[340:].reshape(1,-1)\n",
    "x_input.shape"
   ]
  },
  {
   "cell_type": "code",
   "execution_count": 59,
   "metadata": {},
   "outputs": [
    {
     "data": {
      "text/plain": [
       "[0.6915091828586639,\n",
       " 0.657905243545382,\n",
       " 0.6731101943039659,\n",
       " 0.6094623369709875,\n",
       " 0.608929997338302,\n",
       " 0.6936052701623637,\n",
       " 0.6620308756986958,\n",
       " 0.7066808623902051,\n",
       " 0.6740085174341232,\n",
       " 0.661066010114453,\n",
       " 0.5850079850944904,\n",
       " 0.6487889273356402,\n",
       " 0.6158171413361726,\n",
       " 0.5253194037796114,\n",
       " 0.6242680330050574,\n",
       " 0.5052901250998137,\n",
       " 0.5407239819004526,\n",
       " 0.5201290923609263,\n",
       " 0.5138408304498271,\n",
       " 0.46213734362523295,\n",
       " 0.4459342560553634,\n",
       " 0.5208277881288262,\n",
       " 0.5163029012509982,\n",
       " 0.5592893265903647,\n",
       " 0.5236891136545117,\n",
       " 0.547211871173809,\n",
       " 0.5454817673675806,\n",
       " 0.5009648655842428,\n",
       " 0.5143398988554699,\n",
       " 0.5026284269363854,\n",
       " 0.5726976310886347,\n",
       " 0.5625831780676073,\n",
       " 0.5846752728240618,\n",
       " 0.5910633484162897,\n",
       " 0.6085640138408306,\n",
       " 0.6544783071599682,\n",
       " 0.6457612456747406,\n",
       " 0.6532805429864255,\n",
       " 0.6403380356667555,\n",
       " 0.6208078253926006,\n",
       " 0.5923276550439182,\n",
       " 0.6180463135480438,\n",
       " 0.6144862922544584,\n",
       " 0.6409036465264841,\n",
       " 0.6415690710673411,\n",
       " 0.6262975778546713,\n",
       " 0.6567407505988823,\n",
       " 0.6769363854138942,\n",
       " 0.6611990950226245,\n",
       " 0.6748070268831516,\n",
       " 0.689446366782007,\n",
       " 0.699660633484163,\n",
       " 0.7100079850944904,\n",
       " 0.7312682991748737,\n",
       " 0.747504657971786,\n",
       " 0.7355270162363591,\n",
       " 0.723017034868246,\n",
       " 0.7293052967793453,\n",
       " 0.7232166622305031,\n",
       " 0.7473383018365717,\n",
       " 0.7412829385147724,\n",
       " 0.7615451157838703,\n",
       " 0.7536265637476712,\n",
       " 0.7604138940644131,\n",
       " 0.753227309023157,\n",
       " 0.7578187383550706,\n",
       " 0.7582845355336706,\n",
       " 0.7572531274953421,\n",
       " 0.770262177269098,\n",
       " 0.775219590098483,\n",
       " 0.7811418685121109,\n",
       " 0.7718259249401119,\n",
       " 0.8023689113654512,\n",
       " 0.8088900718658504,\n",
       " 0.8439246739419751,\n",
       " 0.8733697098749001,\n",
       " 0.8170082512643068,\n",
       " 0.8266569071067343,\n",
       " 0.8405975512376899,\n",
       " 0.8708410966196435,\n",
       " 0.8692108064945435,\n",
       " 0.8696766036731437,\n",
       " 0.8629890870375302,\n",
       " 0.8934322597817409,\n",
       " 0.9189180196965664,\n",
       " 0.8973915357998404,\n",
       " 0.9132951823263243,\n",
       " 0.8759981368112858,\n",
       " 0.903114186851211,\n",
       " 0.913162097418153,\n",
       " 0.910866382752196,\n",
       " 0.910866382752196,\n",
       " 0.9432725578919353,\n",
       " 0.9394130955549641,\n",
       " 0.9682925206281608,\n",
       " 0.9737490018631888,\n",
       " 0.97597817407506,\n",
       " 0.9700891668884751,\n",
       " 0.9911165823795584,\n",
       " 1.0]"
      ]
     },
     "execution_count": 59,
     "metadata": {},
     "output_type": "execute_result"
    }
   ],
   "source": [
    "temp_input=list(x_input)\n",
    "temp_input=temp_input[0].tolist()\n",
    "temp_input"
   ]
  },
  {
   "cell_type": "code",
   "execution_count": 60,
   "metadata": {},
   "outputs": [
    {
     "name": "stdout",
     "output_type": "stream",
     "text": [
      "[0.935483]\n",
      "101\n",
      "1 day input [0.65790524 0.67311019 0.60946234 0.60893    0.69360527 0.66203088\n",
      " 0.70668086 0.67400852 0.66106601 0.58500799 0.64878893 0.61581714\n",
      " 0.5253194  0.62426803 0.50529013 0.54072398 0.52012909 0.51384083\n",
      " 0.46213734 0.44593426 0.52082779 0.5163029  0.55928933 0.52368911\n",
      " 0.54721187 0.54548177 0.50096487 0.5143399  0.50262843 0.57269763\n",
      " 0.56258318 0.58467527 0.59106335 0.60856401 0.65447831 0.64576125\n",
      " 0.65328054 0.64033804 0.62080783 0.59232766 0.61804631 0.61448629\n",
      " 0.64090365 0.64156907 0.62629758 0.65674075 0.67693639 0.6611991\n",
      " 0.67480703 0.68944637 0.69966063 0.71000799 0.7312683  0.74750466\n",
      " 0.73552702 0.72301703 0.7293053  0.72321666 0.7473383  0.74128294\n",
      " 0.76154512 0.75362656 0.76041389 0.75322731 0.75781874 0.75828454\n",
      " 0.75725313 0.77026218 0.77521959 0.78114187 0.77182592 0.80236891\n",
      " 0.80889007 0.84392467 0.87336971 0.81700825 0.82665691 0.84059755\n",
      " 0.8708411  0.86921081 0.8696766  0.86298909 0.89343226 0.91891802\n",
      " 0.89739154 0.91329518 0.87599814 0.90311419 0.9131621  0.91086638\n",
      " 0.91086638 0.94327256 0.9394131  0.96829252 0.973749   0.97597817\n",
      " 0.97008917 0.99111658 1.         0.93548298]\n",
      "1 day output [[0.9233929]]\n",
      "2 day input [0.67311019 0.60946234 0.60893    0.69360527 0.66203088 0.70668086\n",
      " 0.67400852 0.66106601 0.58500799 0.64878893 0.61581714 0.5253194\n",
      " 0.62426803 0.50529013 0.54072398 0.52012909 0.51384083 0.46213734\n",
      " 0.44593426 0.52082779 0.5163029  0.55928933 0.52368911 0.54721187\n",
      " 0.54548177 0.50096487 0.5143399  0.50262843 0.57269763 0.56258318\n",
      " 0.58467527 0.59106335 0.60856401 0.65447831 0.64576125 0.65328054\n",
      " 0.64033804 0.62080783 0.59232766 0.61804631 0.61448629 0.64090365\n",
      " 0.64156907 0.62629758 0.65674075 0.67693639 0.6611991  0.67480703\n",
      " 0.68944637 0.69966063 0.71000799 0.7312683  0.74750466 0.73552702\n",
      " 0.72301703 0.7293053  0.72321666 0.7473383  0.74128294 0.76154512\n",
      " 0.75362656 0.76041389 0.75322731 0.75781874 0.75828454 0.75725313\n",
      " 0.77026218 0.77521959 0.78114187 0.77182592 0.80236891 0.80889007\n",
      " 0.84392467 0.87336971 0.81700825 0.82665691 0.84059755 0.8708411\n",
      " 0.86921081 0.8696766  0.86298909 0.89343226 0.91891802 0.89739154\n",
      " 0.91329518 0.87599814 0.90311419 0.9131621  0.91086638 0.91086638\n",
      " 0.94327256 0.9394131  0.96829252 0.973749   0.97597817 0.97008917\n",
      " 0.99111658 1.         0.93548298 0.92339289]\n",
      "2 day output [[0.9050286]]\n",
      "3 day input [0.60946234 0.60893    0.69360527 0.66203088 0.70668086 0.67400852\n",
      " 0.66106601 0.58500799 0.64878893 0.61581714 0.5253194  0.62426803\n",
      " 0.50529013 0.54072398 0.52012909 0.51384083 0.46213734 0.44593426\n",
      " 0.52082779 0.5163029  0.55928933 0.52368911 0.54721187 0.54548177\n",
      " 0.50096487 0.5143399  0.50262843 0.57269763 0.56258318 0.58467527\n",
      " 0.59106335 0.60856401 0.65447831 0.64576125 0.65328054 0.64033804\n",
      " 0.62080783 0.59232766 0.61804631 0.61448629 0.64090365 0.64156907\n",
      " 0.62629758 0.65674075 0.67693639 0.6611991  0.67480703 0.68944637\n",
      " 0.69966063 0.71000799 0.7312683  0.74750466 0.73552702 0.72301703\n",
      " 0.7293053  0.72321666 0.7473383  0.74128294 0.76154512 0.75362656\n",
      " 0.76041389 0.75322731 0.75781874 0.75828454 0.75725313 0.77026218\n",
      " 0.77521959 0.78114187 0.77182592 0.80236891 0.80889007 0.84392467\n",
      " 0.87336971 0.81700825 0.82665691 0.84059755 0.8708411  0.86921081\n",
      " 0.8696766  0.86298909 0.89343226 0.91891802 0.89739154 0.91329518\n",
      " 0.87599814 0.90311419 0.9131621  0.91086638 0.91086638 0.94327256\n",
      " 0.9394131  0.96829252 0.973749   0.97597817 0.97008917 0.99111658\n",
      " 1.         0.93548298 0.92339289 0.90502858]\n",
      "3 day output [[0.8875074]]\n",
      "4 day input [0.60893    0.69360527 0.66203088 0.70668086 0.67400852 0.66106601\n",
      " 0.58500799 0.64878893 0.61581714 0.5253194  0.62426803 0.50529013\n",
      " 0.54072398 0.52012909 0.51384083 0.46213734 0.44593426 0.52082779\n",
      " 0.5163029  0.55928933 0.52368911 0.54721187 0.54548177 0.50096487\n",
      " 0.5143399  0.50262843 0.57269763 0.56258318 0.58467527 0.59106335\n",
      " 0.60856401 0.65447831 0.64576125 0.65328054 0.64033804 0.62080783\n",
      " 0.59232766 0.61804631 0.61448629 0.64090365 0.64156907 0.62629758\n",
      " 0.65674075 0.67693639 0.6611991  0.67480703 0.68944637 0.69966063\n",
      " 0.71000799 0.7312683  0.74750466 0.73552702 0.72301703 0.7293053\n",
      " 0.72321666 0.7473383  0.74128294 0.76154512 0.75362656 0.76041389\n",
      " 0.75322731 0.75781874 0.75828454 0.75725313 0.77026218 0.77521959\n",
      " 0.78114187 0.77182592 0.80236891 0.80889007 0.84392467 0.87336971\n",
      " 0.81700825 0.82665691 0.84059755 0.8708411  0.86921081 0.8696766\n",
      " 0.86298909 0.89343226 0.91891802 0.89739154 0.91329518 0.87599814\n",
      " 0.90311419 0.9131621  0.91086638 0.91086638 0.94327256 0.9394131\n",
      " 0.96829252 0.973749   0.97597817 0.97008917 0.99111658 1.\n",
      " 0.93548298 0.92339289 0.90502858 0.88750738]\n",
      "4 day output [[0.8727811]]\n",
      "5 day input [0.69360527 0.66203088 0.70668086 0.67400852 0.66106601 0.58500799\n",
      " 0.64878893 0.61581714 0.5253194  0.62426803 0.50529013 0.54072398\n",
      " 0.52012909 0.51384083 0.46213734 0.44593426 0.52082779 0.5163029\n",
      " 0.55928933 0.52368911 0.54721187 0.54548177 0.50096487 0.5143399\n",
      " 0.50262843 0.57269763 0.56258318 0.58467527 0.59106335 0.60856401\n",
      " 0.65447831 0.64576125 0.65328054 0.64033804 0.62080783 0.59232766\n",
      " 0.61804631 0.61448629 0.64090365 0.64156907 0.62629758 0.65674075\n",
      " 0.67693639 0.6611991  0.67480703 0.68944637 0.69966063 0.71000799\n",
      " 0.7312683  0.74750466 0.73552702 0.72301703 0.7293053  0.72321666\n",
      " 0.7473383  0.74128294 0.76154512 0.75362656 0.76041389 0.75322731\n",
      " 0.75781874 0.75828454 0.75725313 0.77026218 0.77521959 0.78114187\n",
      " 0.77182592 0.80236891 0.80889007 0.84392467 0.87336971 0.81700825\n",
      " 0.82665691 0.84059755 0.8708411  0.86921081 0.8696766  0.86298909\n",
      " 0.89343226 0.91891802 0.89739154 0.91329518 0.87599814 0.90311419\n",
      " 0.9131621  0.91086638 0.91086638 0.94327256 0.9394131  0.96829252\n",
      " 0.973749   0.97597817 0.97008917 0.99111658 1.         0.93548298\n",
      " 0.92339289 0.90502858 0.88750738 0.8727811 ]\n",
      "5 day output [[0.86111754]]\n",
      "6 day input [0.66203088 0.70668086 0.67400852 0.66106601 0.58500799 0.64878893\n",
      " 0.61581714 0.5253194  0.62426803 0.50529013 0.54072398 0.52012909\n",
      " 0.51384083 0.46213734 0.44593426 0.52082779 0.5163029  0.55928933\n",
      " 0.52368911 0.54721187 0.54548177 0.50096487 0.5143399  0.50262843\n",
      " 0.57269763 0.56258318 0.58467527 0.59106335 0.60856401 0.65447831\n",
      " 0.64576125 0.65328054 0.64033804 0.62080783 0.59232766 0.61804631\n",
      " 0.61448629 0.64090365 0.64156907 0.62629758 0.65674075 0.67693639\n",
      " 0.6611991  0.67480703 0.68944637 0.69966063 0.71000799 0.7312683\n",
      " 0.74750466 0.73552702 0.72301703 0.7293053  0.72321666 0.7473383\n",
      " 0.74128294 0.76154512 0.75362656 0.76041389 0.75322731 0.75781874\n",
      " 0.75828454 0.75725313 0.77026218 0.77521959 0.78114187 0.77182592\n",
      " 0.80236891 0.80889007 0.84392467 0.87336971 0.81700825 0.82665691\n",
      " 0.84059755 0.8708411  0.86921081 0.8696766  0.86298909 0.89343226\n",
      " 0.91891802 0.89739154 0.91329518 0.87599814 0.90311419 0.9131621\n",
      " 0.91086638 0.91086638 0.94327256 0.9394131  0.96829252 0.973749\n",
      " 0.97597817 0.97008917 0.99111658 1.         0.93548298 0.92339289\n",
      " 0.90502858 0.88750738 0.8727811  0.86111754]\n",
      "6 day output [[0.85231817]]\n",
      "7 day input [0.70668086 0.67400852 0.66106601 0.58500799 0.64878893 0.61581714\n",
      " 0.5253194  0.62426803 0.50529013 0.54072398 0.52012909 0.51384083\n",
      " 0.46213734 0.44593426 0.52082779 0.5163029  0.55928933 0.52368911\n",
      " 0.54721187 0.54548177 0.50096487 0.5143399  0.50262843 0.57269763\n",
      " 0.56258318 0.58467527 0.59106335 0.60856401 0.65447831 0.64576125\n",
      " 0.65328054 0.64033804 0.62080783 0.59232766 0.61804631 0.61448629\n",
      " 0.64090365 0.64156907 0.62629758 0.65674075 0.67693639 0.6611991\n",
      " 0.67480703 0.68944637 0.69966063 0.71000799 0.7312683  0.74750466\n",
      " 0.73552702 0.72301703 0.7293053  0.72321666 0.7473383  0.74128294\n",
      " 0.76154512 0.75362656 0.76041389 0.75322731 0.75781874 0.75828454\n",
      " 0.75725313 0.77026218 0.77521959 0.78114187 0.77182592 0.80236891\n",
      " 0.80889007 0.84392467 0.87336971 0.81700825 0.82665691 0.84059755\n",
      " 0.8708411  0.86921081 0.8696766  0.86298909 0.89343226 0.91891802\n",
      " 0.89739154 0.91329518 0.87599814 0.90311419 0.9131621  0.91086638\n",
      " 0.91086638 0.94327256 0.9394131  0.96829252 0.973749   0.97597817\n",
      " 0.97008917 0.99111658 1.         0.93548298 0.92339289 0.90502858\n",
      " 0.88750738 0.8727811  0.86111754 0.85231817]\n",
      "7 day output [[0.8459928]]\n",
      "8 day input [0.67400852 0.66106601 0.58500799 0.64878893 0.61581714 0.5253194\n",
      " 0.62426803 0.50529013 0.54072398 0.52012909 0.51384083 0.46213734\n",
      " 0.44593426 0.52082779 0.5163029  0.55928933 0.52368911 0.54721187\n",
      " 0.54548177 0.50096487 0.5143399  0.50262843 0.57269763 0.56258318\n",
      " 0.58467527 0.59106335 0.60856401 0.65447831 0.64576125 0.65328054\n",
      " 0.64033804 0.62080783 0.59232766 0.61804631 0.61448629 0.64090365\n",
      " 0.64156907 0.62629758 0.65674075 0.67693639 0.6611991  0.67480703\n",
      " 0.68944637 0.69966063 0.71000799 0.7312683  0.74750466 0.73552702\n",
      " 0.72301703 0.7293053  0.72321666 0.7473383  0.74128294 0.76154512\n",
      " 0.75362656 0.76041389 0.75322731 0.75781874 0.75828454 0.75725313\n",
      " 0.77026218 0.77521959 0.78114187 0.77182592 0.80236891 0.80889007\n",
      " 0.84392467 0.87336971 0.81700825 0.82665691 0.84059755 0.8708411\n",
      " 0.86921081 0.8696766  0.86298909 0.89343226 0.91891802 0.89739154\n",
      " 0.91329518 0.87599814 0.90311419 0.9131621  0.91086638 0.91086638\n",
      " 0.94327256 0.9394131  0.96829252 0.973749   0.97597817 0.97008917\n",
      " 0.99111658 1.         0.93548298 0.92339289 0.90502858 0.88750738\n",
      " 0.8727811  0.86111754 0.85231817 0.8459928 ]\n",
      "8 day output [[0.84164286]]\n",
      "9 day input [0.66106601 0.58500799 0.64878893 0.61581714 0.5253194  0.62426803\n",
      " 0.50529013 0.54072398 0.52012909 0.51384083 0.46213734 0.44593426\n",
      " 0.52082779 0.5163029  0.55928933 0.52368911 0.54721187 0.54548177\n",
      " 0.50096487 0.5143399  0.50262843 0.57269763 0.56258318 0.58467527\n",
      " 0.59106335 0.60856401 0.65447831 0.64576125 0.65328054 0.64033804\n",
      " 0.62080783 0.59232766 0.61804631 0.61448629 0.64090365 0.64156907\n",
      " 0.62629758 0.65674075 0.67693639 0.6611991  0.67480703 0.68944637\n",
      " 0.69966063 0.71000799 0.7312683  0.74750466 0.73552702 0.72301703\n",
      " 0.7293053  0.72321666 0.7473383  0.74128294 0.76154512 0.75362656\n",
      " 0.76041389 0.75322731 0.75781874 0.75828454 0.75725313 0.77026218\n",
      " 0.77521959 0.78114187 0.77182592 0.80236891 0.80889007 0.84392467\n",
      " 0.87336971 0.81700825 0.82665691 0.84059755 0.8708411  0.86921081\n",
      " 0.8696766  0.86298909 0.89343226 0.91891802 0.89739154 0.91329518\n",
      " 0.87599814 0.90311419 0.9131621  0.91086638 0.91086638 0.94327256\n",
      " 0.9394131  0.96829252 0.973749   0.97597817 0.97008917 0.99111658\n",
      " 1.         0.93548298 0.92339289 0.90502858 0.88750738 0.8727811\n",
      " 0.86111754 0.85231817 0.8459928  0.84164286]\n",
      "9 day output [[0.83872503]]\n",
      "10 day input [0.58500799 0.64878893 0.61581714 0.5253194  0.62426803 0.50529013\n",
      " 0.54072398 0.52012909 0.51384083 0.46213734 0.44593426 0.52082779\n",
      " 0.5163029  0.55928933 0.52368911 0.54721187 0.54548177 0.50096487\n",
      " 0.5143399  0.50262843 0.57269763 0.56258318 0.58467527 0.59106335\n",
      " 0.60856401 0.65447831 0.64576125 0.65328054 0.64033804 0.62080783\n",
      " 0.59232766 0.61804631 0.61448629 0.64090365 0.64156907 0.62629758\n",
      " 0.65674075 0.67693639 0.6611991  0.67480703 0.68944637 0.69966063\n",
      " 0.71000799 0.7312683  0.74750466 0.73552702 0.72301703 0.7293053\n",
      " 0.72321666 0.7473383  0.74128294 0.76154512 0.75362656 0.76041389\n",
      " 0.75322731 0.75781874 0.75828454 0.75725313 0.77026218 0.77521959\n",
      " 0.78114187 0.77182592 0.80236891 0.80889007 0.84392467 0.87336971\n",
      " 0.81700825 0.82665691 0.84059755 0.8708411  0.86921081 0.8696766\n",
      " 0.86298909 0.89343226 0.91891802 0.89739154 0.91329518 0.87599814\n",
      " 0.90311419 0.9131621  0.91086638 0.91086638 0.94327256 0.9394131\n",
      " 0.96829252 0.973749   0.97597817 0.97008917 0.99111658 1.\n",
      " 0.93548298 0.92339289 0.90502858 0.88750738 0.8727811  0.86111754\n",
      " 0.85231817 0.8459928  0.84164286 0.83872503]\n",
      "10 day output [[0.8367095]]\n",
      "11 day input [0.64878893 0.61581714 0.5253194  0.62426803 0.50529013 0.54072398\n",
      " 0.52012909 0.51384083 0.46213734 0.44593426 0.52082779 0.5163029\n",
      " 0.55928933 0.52368911 0.54721187 0.54548177 0.50096487 0.5143399\n",
      " 0.50262843 0.57269763 0.56258318 0.58467527 0.59106335 0.60856401\n",
      " 0.65447831 0.64576125 0.65328054 0.64033804 0.62080783 0.59232766\n",
      " 0.61804631 0.61448629 0.64090365 0.64156907 0.62629758 0.65674075\n",
      " 0.67693639 0.6611991  0.67480703 0.68944637 0.69966063 0.71000799\n",
      " 0.7312683  0.74750466 0.73552702 0.72301703 0.7293053  0.72321666\n",
      " 0.7473383  0.74128294 0.76154512 0.75362656 0.76041389 0.75322731\n",
      " 0.75781874 0.75828454 0.75725313 0.77026218 0.77521959 0.78114187\n",
      " 0.77182592 0.80236891 0.80889007 0.84392467 0.87336971 0.81700825\n",
      " 0.82665691 0.84059755 0.8708411  0.86921081 0.8696766  0.86298909\n",
      " 0.89343226 0.91891802 0.89739154 0.91329518 0.87599814 0.90311419\n",
      " 0.9131621  0.91086638 0.91086638 0.94327256 0.9394131  0.96829252\n",
      " 0.973749   0.97597817 0.97008917 0.99111658 1.         0.93548298\n",
      " 0.92339289 0.90502858 0.88750738 0.8727811  0.86111754 0.85231817\n",
      " 0.8459928  0.84164286 0.83872503 0.8367095 ]\n",
      "11 day output [[0.8351255]]\n",
      "12 day input [0.61581714 0.5253194  0.62426803 0.50529013 0.54072398 0.52012909\n",
      " 0.51384083 0.46213734 0.44593426 0.52082779 0.5163029  0.55928933\n",
      " 0.52368911 0.54721187 0.54548177 0.50096487 0.5143399  0.50262843\n",
      " 0.57269763 0.56258318 0.58467527 0.59106335 0.60856401 0.65447831\n",
      " 0.64576125 0.65328054 0.64033804 0.62080783 0.59232766 0.61804631\n",
      " 0.61448629 0.64090365 0.64156907 0.62629758 0.65674075 0.67693639\n",
      " 0.6611991  0.67480703 0.68944637 0.69966063 0.71000799 0.7312683\n",
      " 0.74750466 0.73552702 0.72301703 0.7293053  0.72321666 0.7473383\n",
      " 0.74128294 0.76154512 0.75362656 0.76041389 0.75322731 0.75781874\n",
      " 0.75828454 0.75725313 0.77026218 0.77521959 0.78114187 0.77182592\n",
      " 0.80236891 0.80889007 0.84392467 0.87336971 0.81700825 0.82665691\n",
      " 0.84059755 0.8708411  0.86921081 0.8696766  0.86298909 0.89343226\n",
      " 0.91891802 0.89739154 0.91329518 0.87599814 0.90311419 0.9131621\n",
      " 0.91086638 0.91086638 0.94327256 0.9394131  0.96829252 0.973749\n",
      " 0.97597817 0.97008917 0.99111658 1.         0.93548298 0.92339289\n",
      " 0.90502858 0.88750738 0.8727811  0.86111754 0.85231817 0.8459928\n",
      " 0.84164286 0.83872503 0.8367095  0.83512551]\n",
      "12 day output [[0.8335921]]\n",
      "13 day input [0.5253194  0.62426803 0.50529013 0.54072398 0.52012909 0.51384083\n",
      " 0.46213734 0.44593426 0.52082779 0.5163029  0.55928933 0.52368911\n",
      " 0.54721187 0.54548177 0.50096487 0.5143399  0.50262843 0.57269763\n",
      " 0.56258318 0.58467527 0.59106335 0.60856401 0.65447831 0.64576125\n",
      " 0.65328054 0.64033804 0.62080783 0.59232766 0.61804631 0.61448629\n",
      " 0.64090365 0.64156907 0.62629758 0.65674075 0.67693639 0.6611991\n",
      " 0.67480703 0.68944637 0.69966063 0.71000799 0.7312683  0.74750466\n",
      " 0.73552702 0.72301703 0.7293053  0.72321666 0.7473383  0.74128294\n",
      " 0.76154512 0.75362656 0.76041389 0.75322731 0.75781874 0.75828454\n",
      " 0.75725313 0.77026218 0.77521959 0.78114187 0.77182592 0.80236891\n",
      " 0.80889007 0.84392467 0.87336971 0.81700825 0.82665691 0.84059755\n",
      " 0.8708411  0.86921081 0.8696766  0.86298909 0.89343226 0.91891802\n",
      " 0.89739154 0.91329518 0.87599814 0.90311419 0.9131621  0.91086638\n",
      " 0.91086638 0.94327256 0.9394131  0.96829252 0.973749   0.97597817\n",
      " 0.97008917 0.99111658 1.         0.93548298 0.92339289 0.90502858\n",
      " 0.88750738 0.8727811  0.86111754 0.85231817 0.8459928  0.84164286\n",
      " 0.83872503 0.8367095  0.83512551 0.83359212]\n",
      "13 day output [[0.83183414]]\n",
      "14 day input [0.62426803 0.50529013 0.54072398 0.52012909 0.51384083 0.46213734\n",
      " 0.44593426 0.52082779 0.5163029  0.55928933 0.52368911 0.54721187\n",
      " 0.54548177 0.50096487 0.5143399  0.50262843 0.57269763 0.56258318\n",
      " 0.58467527 0.59106335 0.60856401 0.65447831 0.64576125 0.65328054\n",
      " 0.64033804 0.62080783 0.59232766 0.61804631 0.61448629 0.64090365\n",
      " 0.64156907 0.62629758 0.65674075 0.67693639 0.6611991  0.67480703\n",
      " 0.68944637 0.69966063 0.71000799 0.7312683  0.74750466 0.73552702\n",
      " 0.72301703 0.7293053  0.72321666 0.7473383  0.74128294 0.76154512\n",
      " 0.75362656 0.76041389 0.75322731 0.75781874 0.75828454 0.75725313\n",
      " 0.77026218 0.77521959 0.78114187 0.77182592 0.80236891 0.80889007\n",
      " 0.84392467 0.87336971 0.81700825 0.82665691 0.84059755 0.8708411\n",
      " 0.86921081 0.8696766  0.86298909 0.89343226 0.91891802 0.89739154\n",
      " 0.91329518 0.87599814 0.90311419 0.9131621  0.91086638 0.91086638\n",
      " 0.94327256 0.9394131  0.96829252 0.973749   0.97597817 0.97008917\n",
      " 0.99111658 1.         0.93548298 0.92339289 0.90502858 0.88750738\n",
      " 0.8727811  0.86111754 0.85231817 0.8459928  0.84164286 0.83872503\n",
      " 0.8367095  0.83512551 0.83359212 0.83183414]\n"
     ]
    },
    {
     "name": "stdout",
     "output_type": "stream",
     "text": [
      "14 day output [[0.82968175]]\n",
      "15 day input [0.50529013 0.54072398 0.52012909 0.51384083 0.46213734 0.44593426\n",
      " 0.52082779 0.5163029  0.55928933 0.52368911 0.54721187 0.54548177\n",
      " 0.50096487 0.5143399  0.50262843 0.57269763 0.56258318 0.58467527\n",
      " 0.59106335 0.60856401 0.65447831 0.64576125 0.65328054 0.64033804\n",
      " 0.62080783 0.59232766 0.61804631 0.61448629 0.64090365 0.64156907\n",
      " 0.62629758 0.65674075 0.67693639 0.6611991  0.67480703 0.68944637\n",
      " 0.69966063 0.71000799 0.7312683  0.74750466 0.73552702 0.72301703\n",
      " 0.7293053  0.72321666 0.7473383  0.74128294 0.76154512 0.75362656\n",
      " 0.76041389 0.75322731 0.75781874 0.75828454 0.75725313 0.77026218\n",
      " 0.77521959 0.78114187 0.77182592 0.80236891 0.80889007 0.84392467\n",
      " 0.87336971 0.81700825 0.82665691 0.84059755 0.8708411  0.86921081\n",
      " 0.8696766  0.86298909 0.89343226 0.91891802 0.89739154 0.91329518\n",
      " 0.87599814 0.90311419 0.9131621  0.91086638 0.91086638 0.94327256\n",
      " 0.9394131  0.96829252 0.973749   0.97597817 0.97008917 0.99111658\n",
      " 1.         0.93548298 0.92339289 0.90502858 0.88750738 0.8727811\n",
      " 0.86111754 0.85231817 0.8459928  0.84164286 0.83872503 0.8367095\n",
      " 0.83512551 0.83359212 0.83183414 0.82968175]\n",
      "15 day output [[0.82706106]]\n",
      "16 day input [0.54072398 0.52012909 0.51384083 0.46213734 0.44593426 0.52082779\n",
      " 0.5163029  0.55928933 0.52368911 0.54721187 0.54548177 0.50096487\n",
      " 0.5143399  0.50262843 0.57269763 0.56258318 0.58467527 0.59106335\n",
      " 0.60856401 0.65447831 0.64576125 0.65328054 0.64033804 0.62080783\n",
      " 0.59232766 0.61804631 0.61448629 0.64090365 0.64156907 0.62629758\n",
      " 0.65674075 0.67693639 0.6611991  0.67480703 0.68944637 0.69966063\n",
      " 0.71000799 0.7312683  0.74750466 0.73552702 0.72301703 0.7293053\n",
      " 0.72321666 0.7473383  0.74128294 0.76154512 0.75362656 0.76041389\n",
      " 0.75322731 0.75781874 0.75828454 0.75725313 0.77026218 0.77521959\n",
      " 0.78114187 0.77182592 0.80236891 0.80889007 0.84392467 0.87336971\n",
      " 0.81700825 0.82665691 0.84059755 0.8708411  0.86921081 0.8696766\n",
      " 0.86298909 0.89343226 0.91891802 0.89739154 0.91329518 0.87599814\n",
      " 0.90311419 0.9131621  0.91086638 0.91086638 0.94327256 0.9394131\n",
      " 0.96829252 0.973749   0.97597817 0.97008917 0.99111658 1.\n",
      " 0.93548298 0.92339289 0.90502858 0.88750738 0.8727811  0.86111754\n",
      " 0.85231817 0.8459928  0.84164286 0.83872503 0.8367095  0.83512551\n",
      " 0.83359212 0.83183414 0.82968175 0.82706106]\n",
      "16 day output [[0.8239754]]\n",
      "17 day input [0.52012909 0.51384083 0.46213734 0.44593426 0.52082779 0.5163029\n",
      " 0.55928933 0.52368911 0.54721187 0.54548177 0.50096487 0.5143399\n",
      " 0.50262843 0.57269763 0.56258318 0.58467527 0.59106335 0.60856401\n",
      " 0.65447831 0.64576125 0.65328054 0.64033804 0.62080783 0.59232766\n",
      " 0.61804631 0.61448629 0.64090365 0.64156907 0.62629758 0.65674075\n",
      " 0.67693639 0.6611991  0.67480703 0.68944637 0.69966063 0.71000799\n",
      " 0.7312683  0.74750466 0.73552702 0.72301703 0.7293053  0.72321666\n",
      " 0.7473383  0.74128294 0.76154512 0.75362656 0.76041389 0.75322731\n",
      " 0.75781874 0.75828454 0.75725313 0.77026218 0.77521959 0.78114187\n",
      " 0.77182592 0.80236891 0.80889007 0.84392467 0.87336971 0.81700825\n",
      " 0.82665691 0.84059755 0.8708411  0.86921081 0.8696766  0.86298909\n",
      " 0.89343226 0.91891802 0.89739154 0.91329518 0.87599814 0.90311419\n",
      " 0.9131621  0.91086638 0.91086638 0.94327256 0.9394131  0.96829252\n",
      " 0.973749   0.97597817 0.97008917 0.99111658 1.         0.93548298\n",
      " 0.92339289 0.90502858 0.88750738 0.8727811  0.86111754 0.85231817\n",
      " 0.8459928  0.84164286 0.83872503 0.8367095  0.83512551 0.83359212\n",
      " 0.83183414 0.82968175 0.82706106 0.82397538]\n",
      "17 day output [[0.8204846]]\n",
      "18 day input [0.51384083 0.46213734 0.44593426 0.52082779 0.5163029  0.55928933\n",
      " 0.52368911 0.54721187 0.54548177 0.50096487 0.5143399  0.50262843\n",
      " 0.57269763 0.56258318 0.58467527 0.59106335 0.60856401 0.65447831\n",
      " 0.64576125 0.65328054 0.64033804 0.62080783 0.59232766 0.61804631\n",
      " 0.61448629 0.64090365 0.64156907 0.62629758 0.65674075 0.67693639\n",
      " 0.6611991  0.67480703 0.68944637 0.69966063 0.71000799 0.7312683\n",
      " 0.74750466 0.73552702 0.72301703 0.7293053  0.72321666 0.7473383\n",
      " 0.74128294 0.76154512 0.75362656 0.76041389 0.75322731 0.75781874\n",
      " 0.75828454 0.75725313 0.77026218 0.77521959 0.78114187 0.77182592\n",
      " 0.80236891 0.80889007 0.84392467 0.87336971 0.81700825 0.82665691\n",
      " 0.84059755 0.8708411  0.86921081 0.8696766  0.86298909 0.89343226\n",
      " 0.91891802 0.89739154 0.91329518 0.87599814 0.90311419 0.9131621\n",
      " 0.91086638 0.91086638 0.94327256 0.9394131  0.96829252 0.973749\n",
      " 0.97597817 0.97008917 0.99111658 1.         0.93548298 0.92339289\n",
      " 0.90502858 0.88750738 0.8727811  0.86111754 0.85231817 0.8459928\n",
      " 0.84164286 0.83872503 0.8367095  0.83512551 0.83359212 0.83183414\n",
      " 0.82968175 0.82706106 0.82397538 0.82048458]\n",
      "18 day output [[0.81668264]]\n",
      "19 day input [0.46213734 0.44593426 0.52082779 0.5163029  0.55928933 0.52368911\n",
      " 0.54721187 0.54548177 0.50096487 0.5143399  0.50262843 0.57269763\n",
      " 0.56258318 0.58467527 0.59106335 0.60856401 0.65447831 0.64576125\n",
      " 0.65328054 0.64033804 0.62080783 0.59232766 0.61804631 0.61448629\n",
      " 0.64090365 0.64156907 0.62629758 0.65674075 0.67693639 0.6611991\n",
      " 0.67480703 0.68944637 0.69966063 0.71000799 0.7312683  0.74750466\n",
      " 0.73552702 0.72301703 0.7293053  0.72321666 0.7473383  0.74128294\n",
      " 0.76154512 0.75362656 0.76041389 0.75322731 0.75781874 0.75828454\n",
      " 0.75725313 0.77026218 0.77521959 0.78114187 0.77182592 0.80236891\n",
      " 0.80889007 0.84392467 0.87336971 0.81700825 0.82665691 0.84059755\n",
      " 0.8708411  0.86921081 0.8696766  0.86298909 0.89343226 0.91891802\n",
      " 0.89739154 0.91329518 0.87599814 0.90311419 0.9131621  0.91086638\n",
      " 0.91086638 0.94327256 0.9394131  0.96829252 0.973749   0.97597817\n",
      " 0.97008917 0.99111658 1.         0.93548298 0.92339289 0.90502858\n",
      " 0.88750738 0.8727811  0.86111754 0.85231817 0.8459928  0.84164286\n",
      " 0.83872503 0.8367095  0.83512551 0.83359212 0.83183414 0.82968175\n",
      " 0.82706106 0.82397538 0.82048458 0.81668264]\n",
      "19 day output [[0.8126791]]\n",
      "20 day input [0.44593426 0.52082779 0.5163029  0.55928933 0.52368911 0.54721187\n",
      " 0.54548177 0.50096487 0.5143399  0.50262843 0.57269763 0.56258318\n",
      " 0.58467527 0.59106335 0.60856401 0.65447831 0.64576125 0.65328054\n",
      " 0.64033804 0.62080783 0.59232766 0.61804631 0.61448629 0.64090365\n",
      " 0.64156907 0.62629758 0.65674075 0.67693639 0.6611991  0.67480703\n",
      " 0.68944637 0.69966063 0.71000799 0.7312683  0.74750466 0.73552702\n",
      " 0.72301703 0.7293053  0.72321666 0.7473383  0.74128294 0.76154512\n",
      " 0.75362656 0.76041389 0.75322731 0.75781874 0.75828454 0.75725313\n",
      " 0.77026218 0.77521959 0.78114187 0.77182592 0.80236891 0.80889007\n",
      " 0.84392467 0.87336971 0.81700825 0.82665691 0.84059755 0.8708411\n",
      " 0.86921081 0.8696766  0.86298909 0.89343226 0.91891802 0.89739154\n",
      " 0.91329518 0.87599814 0.90311419 0.9131621  0.91086638 0.91086638\n",
      " 0.94327256 0.9394131  0.96829252 0.973749   0.97597817 0.97008917\n",
      " 0.99111658 1.         0.93548298 0.92339289 0.90502858 0.88750738\n",
      " 0.8727811  0.86111754 0.85231817 0.8459928  0.84164286 0.83872503\n",
      " 0.8367095  0.83512551 0.83359212 0.83183414 0.82968175 0.82706106\n",
      " 0.82397538 0.82048458 0.81668264 0.81267911]\n",
      "20 day output [[0.8085822]]\n",
      "21 day input [0.52082779 0.5163029  0.55928933 0.52368911 0.54721187 0.54548177\n",
      " 0.50096487 0.5143399  0.50262843 0.57269763 0.56258318 0.58467527\n",
      " 0.59106335 0.60856401 0.65447831 0.64576125 0.65328054 0.64033804\n",
      " 0.62080783 0.59232766 0.61804631 0.61448629 0.64090365 0.64156907\n",
      " 0.62629758 0.65674075 0.67693639 0.6611991  0.67480703 0.68944637\n",
      " 0.69966063 0.71000799 0.7312683  0.74750466 0.73552702 0.72301703\n",
      " 0.7293053  0.72321666 0.7473383  0.74128294 0.76154512 0.75362656\n",
      " 0.76041389 0.75322731 0.75781874 0.75828454 0.75725313 0.77026218\n",
      " 0.77521959 0.78114187 0.77182592 0.80236891 0.80889007 0.84392467\n",
      " 0.87336971 0.81700825 0.82665691 0.84059755 0.8708411  0.86921081\n",
      " 0.8696766  0.86298909 0.89343226 0.91891802 0.89739154 0.91329518\n",
      " 0.87599814 0.90311419 0.9131621  0.91086638 0.91086638 0.94327256\n",
      " 0.9394131  0.96829252 0.973749   0.97597817 0.97008917 0.99111658\n",
      " 1.         0.93548298 0.92339289 0.90502858 0.88750738 0.8727811\n",
      " 0.86111754 0.85231817 0.8459928  0.84164286 0.83872503 0.8367095\n",
      " 0.83512551 0.83359212 0.83183414 0.82968175 0.82706106 0.82397538\n",
      " 0.82048458 0.81668264 0.81267911 0.80858219]\n",
      "21 day output [[0.8044893]]\n",
      "22 day input [0.5163029  0.55928933 0.52368911 0.54721187 0.54548177 0.50096487\n",
      " 0.5143399  0.50262843 0.57269763 0.56258318 0.58467527 0.59106335\n",
      " 0.60856401 0.65447831 0.64576125 0.65328054 0.64033804 0.62080783\n",
      " 0.59232766 0.61804631 0.61448629 0.64090365 0.64156907 0.62629758\n",
      " 0.65674075 0.67693639 0.6611991  0.67480703 0.68944637 0.69966063\n",
      " 0.71000799 0.7312683  0.74750466 0.73552702 0.72301703 0.7293053\n",
      " 0.72321666 0.7473383  0.74128294 0.76154512 0.75362656 0.76041389\n",
      " 0.75322731 0.75781874 0.75828454 0.75725313 0.77026218 0.77521959\n",
      " 0.78114187 0.77182592 0.80236891 0.80889007 0.84392467 0.87336971\n",
      " 0.81700825 0.82665691 0.84059755 0.8708411  0.86921081 0.8696766\n",
      " 0.86298909 0.89343226 0.91891802 0.89739154 0.91329518 0.87599814\n",
      " 0.90311419 0.9131621  0.91086638 0.91086638 0.94327256 0.9394131\n",
      " 0.96829252 0.973749   0.97597817 0.97008917 0.99111658 1.\n",
      " 0.93548298 0.92339289 0.90502858 0.88750738 0.8727811  0.86111754\n",
      " 0.85231817 0.8459928  0.84164286 0.83872503 0.8367095  0.83512551\n",
      " 0.83359212 0.83183414 0.82968175 0.82706106 0.82397538 0.82048458\n",
      " 0.81668264 0.81267911 0.80858219 0.80448931]\n",
      "22 day output [[0.8004775]]\n",
      "23 day input [0.55928933 0.52368911 0.54721187 0.54548177 0.50096487 0.5143399\n",
      " 0.50262843 0.57269763 0.56258318 0.58467527 0.59106335 0.60856401\n",
      " 0.65447831 0.64576125 0.65328054 0.64033804 0.62080783 0.59232766\n",
      " 0.61804631 0.61448629 0.64090365 0.64156907 0.62629758 0.65674075\n",
      " 0.67693639 0.6611991  0.67480703 0.68944637 0.69966063 0.71000799\n",
      " 0.7312683  0.74750466 0.73552702 0.72301703 0.7293053  0.72321666\n",
      " 0.7473383  0.74128294 0.76154512 0.75362656 0.76041389 0.75322731\n",
      " 0.75781874 0.75828454 0.75725313 0.77026218 0.77521959 0.78114187\n",
      " 0.77182592 0.80236891 0.80889007 0.84392467 0.87336971 0.81700825\n",
      " 0.82665691 0.84059755 0.8708411  0.86921081 0.8696766  0.86298909\n",
      " 0.89343226 0.91891802 0.89739154 0.91329518 0.87599814 0.90311419\n",
      " 0.9131621  0.91086638 0.91086638 0.94327256 0.9394131  0.96829252\n",
      " 0.973749   0.97597817 0.97008917 0.99111658 1.         0.93548298\n",
      " 0.92339289 0.90502858 0.88750738 0.8727811  0.86111754 0.85231817\n",
      " 0.8459928  0.84164286 0.83872503 0.8367095  0.83512551 0.83359212\n",
      " 0.83183414 0.82968175 0.82706106 0.82397538 0.82048458 0.81668264\n",
      " 0.81267911 0.80858219 0.80448931 0.8004775 ]\n"
     ]
    },
    {
     "name": "stdout",
     "output_type": "stream",
     "text": [
      "23 day output [[0.79660255]]\n",
      "24 day input [0.52368911 0.54721187 0.54548177 0.50096487 0.5143399  0.50262843\n",
      " 0.57269763 0.56258318 0.58467527 0.59106335 0.60856401 0.65447831\n",
      " 0.64576125 0.65328054 0.64033804 0.62080783 0.59232766 0.61804631\n",
      " 0.61448629 0.64090365 0.64156907 0.62629758 0.65674075 0.67693639\n",
      " 0.6611991  0.67480703 0.68944637 0.69966063 0.71000799 0.7312683\n",
      " 0.74750466 0.73552702 0.72301703 0.7293053  0.72321666 0.7473383\n",
      " 0.74128294 0.76154512 0.75362656 0.76041389 0.75322731 0.75781874\n",
      " 0.75828454 0.75725313 0.77026218 0.77521959 0.78114187 0.77182592\n",
      " 0.80236891 0.80889007 0.84392467 0.87336971 0.81700825 0.82665691\n",
      " 0.84059755 0.8708411  0.86921081 0.8696766  0.86298909 0.89343226\n",
      " 0.91891802 0.89739154 0.91329518 0.87599814 0.90311419 0.9131621\n",
      " 0.91086638 0.91086638 0.94327256 0.9394131  0.96829252 0.973749\n",
      " 0.97597817 0.97008917 0.99111658 1.         0.93548298 0.92339289\n",
      " 0.90502858 0.88750738 0.8727811  0.86111754 0.85231817 0.8459928\n",
      " 0.84164286 0.83872503 0.8367095  0.83512551 0.83359212 0.83183414\n",
      " 0.82968175 0.82706106 0.82397538 0.82048458 0.81668264 0.81267911\n",
      " 0.80858219 0.80448931 0.8004775  0.79660255]\n",
      "24 day output [[0.7928975]]\n",
      "25 day input [0.54721187 0.54548177 0.50096487 0.5143399  0.50262843 0.57269763\n",
      " 0.56258318 0.58467527 0.59106335 0.60856401 0.65447831 0.64576125\n",
      " 0.65328054 0.64033804 0.62080783 0.59232766 0.61804631 0.61448629\n",
      " 0.64090365 0.64156907 0.62629758 0.65674075 0.67693639 0.6611991\n",
      " 0.67480703 0.68944637 0.69966063 0.71000799 0.7312683  0.74750466\n",
      " 0.73552702 0.72301703 0.7293053  0.72321666 0.7473383  0.74128294\n",
      " 0.76154512 0.75362656 0.76041389 0.75322731 0.75781874 0.75828454\n",
      " 0.75725313 0.77026218 0.77521959 0.78114187 0.77182592 0.80236891\n",
      " 0.80889007 0.84392467 0.87336971 0.81700825 0.82665691 0.84059755\n",
      " 0.8708411  0.86921081 0.8696766  0.86298909 0.89343226 0.91891802\n",
      " 0.89739154 0.91329518 0.87599814 0.90311419 0.9131621  0.91086638\n",
      " 0.91086638 0.94327256 0.9394131  0.96829252 0.973749   0.97597817\n",
      " 0.97008917 0.99111658 1.         0.93548298 0.92339289 0.90502858\n",
      " 0.88750738 0.8727811  0.86111754 0.85231817 0.8459928  0.84164286\n",
      " 0.83872503 0.8367095  0.83512551 0.83359212 0.83183414 0.82968175\n",
      " 0.82706106 0.82397538 0.82048458 0.81668264 0.81267911 0.80858219\n",
      " 0.80448931 0.8004775  0.79660255 0.79289752]\n",
      "25 day output [[0.7893755]]\n",
      "26 day input [0.54548177 0.50096487 0.5143399  0.50262843 0.57269763 0.56258318\n",
      " 0.58467527 0.59106335 0.60856401 0.65447831 0.64576125 0.65328054\n",
      " 0.64033804 0.62080783 0.59232766 0.61804631 0.61448629 0.64090365\n",
      " 0.64156907 0.62629758 0.65674075 0.67693639 0.6611991  0.67480703\n",
      " 0.68944637 0.69966063 0.71000799 0.7312683  0.74750466 0.73552702\n",
      " 0.72301703 0.7293053  0.72321666 0.7473383  0.74128294 0.76154512\n",
      " 0.75362656 0.76041389 0.75322731 0.75781874 0.75828454 0.75725313\n",
      " 0.77026218 0.77521959 0.78114187 0.77182592 0.80236891 0.80889007\n",
      " 0.84392467 0.87336971 0.81700825 0.82665691 0.84059755 0.8708411\n",
      " 0.86921081 0.8696766  0.86298909 0.89343226 0.91891802 0.89739154\n",
      " 0.91329518 0.87599814 0.90311419 0.9131621  0.91086638 0.91086638\n",
      " 0.94327256 0.9394131  0.96829252 0.973749   0.97597817 0.97008917\n",
      " 0.99111658 1.         0.93548298 0.92339289 0.90502858 0.88750738\n",
      " 0.8727811  0.86111754 0.85231817 0.8459928  0.84164286 0.83872503\n",
      " 0.8367095  0.83512551 0.83359212 0.83183414 0.82968175 0.82706106\n",
      " 0.82397538 0.82048458 0.81668264 0.81267911 0.80858219 0.80448931\n",
      " 0.8004775  0.79660255 0.79289752 0.78937548]\n",
      "26 day output [[0.7860333]]\n",
      "27 day input [0.50096487 0.5143399  0.50262843 0.57269763 0.56258318 0.58467527\n",
      " 0.59106335 0.60856401 0.65447831 0.64576125 0.65328054 0.64033804\n",
      " 0.62080783 0.59232766 0.61804631 0.61448629 0.64090365 0.64156907\n",
      " 0.62629758 0.65674075 0.67693639 0.6611991  0.67480703 0.68944637\n",
      " 0.69966063 0.71000799 0.7312683  0.74750466 0.73552702 0.72301703\n",
      " 0.7293053  0.72321666 0.7473383  0.74128294 0.76154512 0.75362656\n",
      " 0.76041389 0.75322731 0.75781874 0.75828454 0.75725313 0.77026218\n",
      " 0.77521959 0.78114187 0.77182592 0.80236891 0.80889007 0.84392467\n",
      " 0.87336971 0.81700825 0.82665691 0.84059755 0.8708411  0.86921081\n",
      " 0.8696766  0.86298909 0.89343226 0.91891802 0.89739154 0.91329518\n",
      " 0.87599814 0.90311419 0.9131621  0.91086638 0.91086638 0.94327256\n",
      " 0.9394131  0.96829252 0.973749   0.97597817 0.97008917 0.99111658\n",
      " 1.         0.93548298 0.92339289 0.90502858 0.88750738 0.8727811\n",
      " 0.86111754 0.85231817 0.8459928  0.84164286 0.83872503 0.8367095\n",
      " 0.83512551 0.83359212 0.83183414 0.82968175 0.82706106 0.82397538\n",
      " 0.82048458 0.81668264 0.81267911 0.80858219 0.80448931 0.8004775\n",
      " 0.79660255 0.79289752 0.78937548 0.78603327]\n",
      "27 day output [[0.7828546]]\n",
      "28 day input [0.5143399  0.50262843 0.57269763 0.56258318 0.58467527 0.59106335\n",
      " 0.60856401 0.65447831 0.64576125 0.65328054 0.64033804 0.62080783\n",
      " 0.59232766 0.61804631 0.61448629 0.64090365 0.64156907 0.62629758\n",
      " 0.65674075 0.67693639 0.6611991  0.67480703 0.68944637 0.69966063\n",
      " 0.71000799 0.7312683  0.74750466 0.73552702 0.72301703 0.7293053\n",
      " 0.72321666 0.7473383  0.74128294 0.76154512 0.75362656 0.76041389\n",
      " 0.75322731 0.75781874 0.75828454 0.75725313 0.77026218 0.77521959\n",
      " 0.78114187 0.77182592 0.80236891 0.80889007 0.84392467 0.87336971\n",
      " 0.81700825 0.82665691 0.84059755 0.8708411  0.86921081 0.8696766\n",
      " 0.86298909 0.89343226 0.91891802 0.89739154 0.91329518 0.87599814\n",
      " 0.90311419 0.9131621  0.91086638 0.91086638 0.94327256 0.9394131\n",
      " 0.96829252 0.973749   0.97597817 0.97008917 0.99111658 1.\n",
      " 0.93548298 0.92339289 0.90502858 0.88750738 0.8727811  0.86111754\n",
      " 0.85231817 0.8459928  0.84164286 0.83872503 0.8367095  0.83512551\n",
      " 0.83359212 0.83183414 0.82968175 0.82706106 0.82397538 0.82048458\n",
      " 0.81668264 0.81267911 0.80858219 0.80448931 0.8004775  0.79660255\n",
      " 0.79289752 0.78937548 0.78603327 0.78285462]\n",
      "28 day output [[0.77981657]]\n",
      "29 day input [0.50262843 0.57269763 0.56258318 0.58467527 0.59106335 0.60856401\n",
      " 0.65447831 0.64576125 0.65328054 0.64033804 0.62080783 0.59232766\n",
      " 0.61804631 0.61448629 0.64090365 0.64156907 0.62629758 0.65674075\n",
      " 0.67693639 0.6611991  0.67480703 0.68944637 0.69966063 0.71000799\n",
      " 0.7312683  0.74750466 0.73552702 0.72301703 0.7293053  0.72321666\n",
      " 0.7473383  0.74128294 0.76154512 0.75362656 0.76041389 0.75322731\n",
      " 0.75781874 0.75828454 0.75725313 0.77026218 0.77521959 0.78114187\n",
      " 0.77182592 0.80236891 0.80889007 0.84392467 0.87336971 0.81700825\n",
      " 0.82665691 0.84059755 0.8708411  0.86921081 0.8696766  0.86298909\n",
      " 0.89343226 0.91891802 0.89739154 0.91329518 0.87599814 0.90311419\n",
      " 0.9131621  0.91086638 0.91086638 0.94327256 0.9394131  0.96829252\n",
      " 0.973749   0.97597817 0.97008917 0.99111658 1.         0.93548298\n",
      " 0.92339289 0.90502858 0.88750738 0.8727811  0.86111754 0.85231817\n",
      " 0.8459928  0.84164286 0.83872503 0.8367095  0.83512551 0.83359212\n",
      " 0.83183414 0.82968175 0.82706106 0.82397538 0.82048458 0.81668264\n",
      " 0.81267911 0.80858219 0.80448931 0.8004775  0.79660255 0.79289752\n",
      " 0.78937548 0.78603327 0.78285462 0.77981657]\n",
      "29 day output [[0.7768921]]\n",
      "[[0.9354829788208008], [0.9233928918838501], [0.9050285816192627], [0.8875073790550232], [0.8727810978889465], [0.8611175417900085], [0.8523181676864624], [0.8459928035736084], [0.8416428565979004], [0.8387250304222107], [0.8367094993591309], [0.8351255059242249], [0.8335921168327332], [0.8318341374397278], [0.8296817541122437], [0.8270610570907593], [0.8239753842353821], [0.8204845786094666], [0.8166826367378235], [0.81267911195755], [0.8085821866989136], [0.8044893145561218], [0.8004775047302246], [0.7966025471687317], [0.7928975224494934], [0.7893754839897156], [0.7860332727432251], [0.7828546166419983], [0.7798165678977966], [0.7768921256065369]]\n"
     ]
    }
   ],
   "source": [
    "# demonstrate prediction for next 10 days\n",
    "from numpy import array\n",
    "\n",
    "lst_output=[]\n",
    "n_steps=100\n",
    "i=0\n",
    "while(i<30):\n",
    "    \n",
    "    if(len(temp_input)>100):\n",
    "        #print(temp_input)\n",
    "        x_input=np.array(temp_input[1:])\n",
    "        print(\"{} day input {}\".format(i,x_input))\n",
    "        x_input=x_input.reshape(1,-1)\n",
    "        x_input = x_input.reshape((1, n_steps, 1))\n",
    "        #print(x_input)\n",
    "        yhat = model.predict(x_input, verbose=0)\n",
    "        print(\"{} day output {}\".format(i,yhat))\n",
    "        temp_input.extend(yhat[0].tolist())\n",
    "        temp_input=temp_input[1:]\n",
    "        #print(temp_input)\n",
    "        lst_output.extend(yhat.tolist())\n",
    "        i=i+1\n",
    "    else:\n",
    "        x_input = x_input.reshape((1, n_steps,1))\n",
    "        yhat = model.predict(x_input, verbose=0)\n",
    "        print(yhat[0])\n",
    "        temp_input.extend(yhat[0].tolist())\n",
    "        print(len(temp_input))\n",
    "        lst_output.extend(yhat.tolist())\n",
    "        i=i+1\n",
    "    \n",
    "\n",
    "print(lst_output)"
   ]
  },
  {
   "cell_type": "code",
   "execution_count": 69,
   "metadata": {},
   "outputs": [],
   "source": [
    "day_new=np.arange(1,101)\n",
    "day_pred=np.arange(101,131)"
   ]
  },
  {
   "cell_type": "code",
   "execution_count": 62,
   "metadata": {},
   "outputs": [
    {
     "data": {
      "text/plain": [
       "1257"
      ]
     },
     "execution_count": 62,
     "metadata": {},
     "output_type": "execute_result"
    }
   ],
   "source": [
    "len(df1)"
   ]
  },
  {
   "cell_type": "code",
   "execution_count": 65,
   "metadata": {},
   "outputs": [
    {
     "data": {
      "text/plain": [
       "[<matplotlib.lines.Line2D at 0x1eb6cc8cd48>]"
      ]
     },
     "execution_count": 65,
     "metadata": {},
     "output_type": "execute_result"
    },
    {
     "data": {
      "image/png": "[encoded data removed]",
      "text/plain": [
       "<Figure size 432x288 with 1 Axes>"
      ]
     },
     "metadata": {
      "needs_background": "light"
     },
     "output_type": "display_data"
    }
   ],
   "source": [
    "\n",
    "plt.plot(day_new,scaler.inverse_transform(df1[1157:]))\n",
    "plt.plot(day_pred,scaler.inverse_transform(lst_output))"
   ]
  },
  {
   "cell_type": "code",
   "execution_count": 66,
   "metadata": {},
   "outputs": [
    {
     "data": {
      "text/plain": [
       "[<matplotlib.lines.Line2D at 0x1eb6cca1dc8>]"
      ]
     },
     "execution_count": 66,
     "metadata": {},
     "output_type": "execute_result"
    },
    {
     "data": {
      "image/png": "[encoded data removed]",
      "text/plain": [
       "<Figure size 432x288 with 1 Axes>"
      ]
     },
     "metadata": {
      "needs_background": "light"
     },
     "output_type": "display_data"
    }
   ],
   "source": [
    "df3=df1.tolist()\n",
    "df3.extend(lst_output)\n",
    "plt.plot(df3[1200:])"
   ]
  },
  {
   "cell_type": "code",
   "execution_count": 67,
   "metadata": {},
   "outputs": [
    {
     "data": {
      "text/plain": [
       "[<matplotlib.lines.Line2D at 0x1eb6ff0c088>]"
      ]
     },
     "execution_count": 67,
     "metadata": {},
     "output_type": "execute_result"
    },
    {
     "data": {
      "image/png": "[encoded data removed]",
      "text/plain": [
       "<Figure size 432x288 with 1 Axes>"
      ]
     },
     "metadata": {
      "needs_background": "light"
     },
     "output_type": "display_data"
    }
   ],
   "source": [
    "df3=scaler.inverse_transform(df3).tolist()\n",
    "plt.plot(df3)"
   ]
  },
  {
   "cell_type": "code",
   "execution_count": null,
   "metadata": {},
   "outputs": [],
   "source": []
  }
 ],
 "metadata": {
  "kernelspec": {
   "display_name": "Python 3",
   "language": "python",
   "name": "python3"
  },
  "language_info": {
   "codemirror_mode": {
    "name": "ipython",
    "version": 3
   },
   "file_extension": ".py",
   "mimetype": "text/x-python",
   "name": "python",
   "nbconvert_exporter": "python",
   "pygments_lexer": "ipython3",
   "version": "3.7.4"
  }
 },
 "nbformat": 4,
 "nbformat_minor": 2
}
